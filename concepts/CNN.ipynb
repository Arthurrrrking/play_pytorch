{
 "cells": [
  {
   "cell_type": "markdown",
   "source": [
    "什么是CNN？\n",
    "\n",
    "Convolutional Neural Network.卷积神经网络。常用于处理具有类似矩阵数据结构的数据。比如图像。常用方向有人脸识别，图像分类，图像生成等等。\n",
    "\n",
    "主要由以下几层构成：\n",
    "1.卷积层。核心。\n",
    "2.激活层。\n",
    "3.池化层。用于降低模型特征的尺寸，从而减少计算量和过拟合。最常见的池化是最大池化（Max Pooling），即取局部区域的最大值。\n",
    "4.全连接层。\n",
    "5.损失函数。用于计算预测和实际的偏移量。"
   ],
   "metadata": {
    "collapsed": false
   }
  },
  {
   "cell_type": "code",
   "execution_count": null,
   "outputs": [],
   "source": [
    "# 举例\n",
    "import torch,"
   ],
   "metadata": {
    "collapsed": false
   }
  }
 ],
 "metadata": {
  "kernelspec": {
   "display_name": "Python 3",
   "language": "python",
   "name": "python3"
  },
  "language_info": {
   "codemirror_mode": {
    "name": "ipython",
    "version": 2
   },
   "file_extension": ".py",
   "mimetype": "text/x-python",
   "name": "python",
   "nbconvert_exporter": "python",
   "pygments_lexer": "ipython2",
   "version": "2.7.6"
  }
 },
 "nbformat": 4,
 "nbformat_minor": 0
}
